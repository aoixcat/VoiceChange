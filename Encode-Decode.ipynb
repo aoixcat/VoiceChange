{
 "cells": [
  {
   "cell_type": "code",
   "execution_count": 1,
   "metadata": {},
   "outputs": [],
   "source": [
    "import os\n",
    "import numpy as np\n",
    "import time\n",
    "import librosa\n",
    "import pyworld\n",
    "import matplotlib.pyplot as plt"
   ]
  },
  {
   "cell_type": "code",
   "execution_count": 2,
   "metadata": {},
   "outputs": [],
   "source": [
    "def load_wavs(wav_dir, sr):\n",
    "    \n",
    "    debug_num = 0\n",
    "    wavs = list()\n",
    "    for file in os.listdir(wav_dir):\n",
    "        debug_num += 1\n",
    "        if (debug_num > 100):\n",
    "            break\n",
    "        file_path = os.path.join(wav_dir, file)\n",
    "        wav, _ = librosa.load(file_path, sr = sr, mono = True)\n",
    "        #wav = wav.astype(np.float64)\n",
    "        wavs.append(wav)\n",
    "\n",
    "    return wavs\n",
    "\n",
    "def world_decompose(wav, fs, frame_period = 5.0):\n",
    "\n",
    "    # Decompose speech signal into f0, spectral envelope and aperiodicity using WORLD\n",
    "    wav = wav.astype(np.float64)\n",
    "    f0, timeaxis = pyworld.harvest(wav, fs, frame_period = frame_period, f0_floor = 71.0, f0_ceil = 800.0)\n",
    "    sp = pyworld.cheaptrick(wav, f0, timeaxis, fs)\n",
    "    ap = pyworld.d4c(wav, f0, timeaxis, fs)\n",
    "\n",
    "    return f0, timeaxis, sp, ap\n",
    "\n",
    "def world_encode_spectral_envelop(sp, fs, dim = 24):\n",
    "\n",
    "    # Get Mel-cepstral coefficients (MCEPs)\n",
    "\n",
    "    #sp = sp.astype(np.float64)\n",
    "    coded_sp = pyworld.code_spectral_envelope(sp, fs, dim)\n",
    "\n",
    "    return coded_sp\n",
    "\n",
    "def world_decode_spectral_envelop(coded_sp, fs):\n",
    "\n",
    "    fftlen = pyworld.get_cheaptrick_fft_size(fs)\n",
    "    #coded_sp = coded_sp.astype(np.float32)\n",
    "    #coded_sp = np.ascontiguousarray(coded_sp)\n",
    "    decoded_sp = pyworld.decode_spectral_envelope(coded_sp, fs, fftlen)\n",
    "\n",
    "    return decoded_sp\n",
    "\n",
    "\n",
    "def world_decode_data(coded_sps, fs):\n",
    "\n",
    "    decoded_sps =  list()\n",
    "\n",
    "    for coded_sp in coded_sps:\n",
    "        decoded_sp = world_decode_spectral_envelop(coded_sp, fs)\n",
    "        decoded_sps.append(decoded_sp)\n",
    "\n",
    "    return decoded_sps\n",
    "\n",
    "\n",
    "def world_speech_synthesis(f0, decoded_sp, ap, fs, frame_period):\n",
    "\n",
    "    #decoded_sp = decoded_sp.astype(np.float64)\n",
    "    wav = pyworld.synthesize(f0, decoded_sp, ap, fs, frame_period)\n",
    "    # Librosa could not save wav if not doing so\n",
    "    wav = wav.astype(np.float32)\n",
    "\n",
    "    return wav\n",
    "\n",
    "def coded_sps_normalization_fit_transoform(coded_sps):\n",
    "\n",
    "    coded_sps_concatenated = np.concatenate(coded_sps, axis = 1)\n",
    "    coded_sps_mean = np.mean(coded_sps_concatenated, axis = 1, keepdims = True)\n",
    "    coded_sps_std = np.std(coded_sps_concatenated, axis = 1, keepdims = True)\n",
    "\n",
    "    coded_sps_normalized = list()\n",
    "    for coded_sp in coded_sps:\n",
    "        coded_sps_normalized.append((coded_sp - coded_sps_mean) / coded_sps_std)\n",
    "    \n",
    "    return coded_sps_normalized, coded_sps_mean, coded_sps_std\n",
    "\n",
    "def coded_sps_normalization_transoform(coded_sps, coded_sps_mean, coded_sps_std):\n",
    "\n",
    "    coded_sps_normalized = list()\n",
    "    for coded_sp in coded_sps:\n",
    "        coded_sps_normalized.append((coded_sp - coded_sps_mean) / coded_sps_std)\n",
    "    \n",
    "    return coded_sps_normalized\n",
    "\n",
    "def coded_sps_normalization_inverse_transoform(normalized_coded_sps, coded_sps_mean, coded_sps_std):\n",
    "\n",
    "    coded_sps = list()\n",
    "    for normalized_coded_sp in normalized_coded_sps:\n",
    "        coded_sps.append(normalized_coded_sp * coded_sps_std + coded_sps_mean)\n",
    "\n",
    "    return coded_sps\n",
    "\n",
    "def coded_sp_padding(coded_sp, multiple = 4):\n",
    "\n",
    "    num_features = coded_sp.shape[0]\n",
    "    num_frames = coded_sp.shape[1]\n",
    "    num_frames_padded = int(np.ceil(num_frames / multiple)) * multiple\n",
    "    num_frames_diff = num_frames_padded - num_frames\n",
    "    num_pad_left = num_frames_diff // 2\n",
    "    num_pad_right = num_frames_diff - num_pad_left\n",
    "    coded_sp_padded = np.pad(coded_sp, ((0, 0), (num_pad_left, num_pad_right)), 'constant', constant_values = 0)\n",
    "\n",
    "    return coded_sp_padded\n",
    "\n",
    "def wav_padding(wav, sr, frame_period, multiple = 4):\n",
    "\n",
    "    assert wav.ndim == 1 \n",
    "    num_frames = len(wav)\n",
    "    num_frames_padded = int((np.ceil((np.floor(num_frames / (sr *  frame_period / 1000)) + 1) / multiple + 1) * multiple - 1) * (sr * frame_period / 1000))\n",
    "    num_frames_diff = num_frames_padded - num_frames\n",
    "    num_pad_left = num_frames_diff // 2\n",
    "    num_pad_right = num_frames_diff - num_pad_left\n",
    "    wav_padded = np.pad(wav, (num_pad_left, num_pad_right), 'constant', constant_values = 0)\n",
    "\n",
    "    return wav_padded\n",
    "\n",
    "def logf0_statistics(f0s):\n",
    "\n",
    "    log_f0s_concatenated = np.ma.log(np.concatenate(f0s))\n",
    "    log_f0s_mean = log_f0s_concatenated.mean()\n",
    "    log_f0s_std = log_f0s_concatenated.std()\n",
    "\n",
    "    return log_f0s_mean, log_f0s_std\n",
    "\n",
    "def pitch_conversion(f0, mean_log_src, std_log_src, mean_log_target, std_log_target):\n",
    "\n",
    "    # Logarithm Gaussian normalization for Pitch Conversions\n",
    "    f0_converted = np.exp((np.log(f0) - mean_log_src) / std_log_src * std_log_target + mean_log_target)\n",
    "\n",
    "    return f0_converted\n",
    "\n",
    "def wavs_to_specs(wavs, n_fft = 1024, hop_length = None):\n",
    "\n",
    "    stfts = list()\n",
    "    for wav in wavs:\n",
    "        stft = librosa.stft(wav, n_fft = n_fft, hop_length = hop_length)\n",
    "        stfts.append(stft)\n",
    "\n",
    "    return stfts\n",
    "\n",
    "\n",
    "def wavs_to_mfccs(wavs, sr, n_fft = 1024, hop_length = None, n_mels = 128, n_mfcc = 24):\n",
    "\n",
    "    mfccs = list()\n",
    "    for wav in wavs:\n",
    "        mfcc = librosa.feature.mfcc(y = wav, sr = sr, n_fft = n_fft, hop_length = hop_length, n_mels = n_mels, n_mfcc = n_mfcc)\n",
    "        mfccs.append(mfcc)\n",
    "\n",
    "    return mfccs\n",
    "\n",
    "def mfccs_normalization(mfccs):\n",
    "\n",
    "    mfccs_concatenated = np.concatenate(mfccs, axis = 1)\n",
    "    mfccs_mean = np.mean(mfccs_concatenated, axis = 1, keepdims = True)\n",
    "    mfccs_std = np.std(mfccs_concatenated, axis = 1, keepdims = True)\n",
    "\n",
    "    mfccs_normalized = list()\n",
    "    for mfcc in mfccs:\n",
    "        mfccs_normalized.append((mfcc - mfccs_mean) / mfccs_std)\n",
    "    \n",
    "    return mfccs_normalized, mfccs_mean, mfccs_std\n"
   ]
  },
  {
   "cell_type": "code",
   "execution_count": 3,
   "metadata": {},
   "outputs": [],
   "source": [
    "def encode(filepath):\n",
    "    \n",
    "    wav, _ = librosa.load(filepath, sr = sampling_rate, mono = True)\n",
    "    wav = wav_padding(wav = wav, sr = sampling_rate, frame_period = frame_period, multiple = 4)\n",
    "    f0, timeaxis, sp, ap = world_decompose(wav = wav, fs = sampling_rate, frame_period = frame_period)\n",
    "    coded_sp = world_encode_spectral_envelop(sp = sp, fs = sampling_rate, dim = num_mcep)\n",
    "    coded_sp_transposed = coded_sp.T\n",
    "    mcep_mean = np.mean(coded_sp_transposed)\n",
    "    mcep_std = np.std(coded_sp_transposed)\n",
    "    coded_sp_norm = (coded_sp_transposed - mcep_mean) / mcep_std\n",
    "    \n",
    "    return coded_sp_norm, mcep_mean, mcep_std, f0, ap\n"
   ]
  },
  {
   "cell_type": "code",
   "execution_count": 4,
   "metadata": {},
   "outputs": [],
   "source": [
    "def decode(filepath, coded_sp_norm, mcep_mean, mcep_std, f0, ap):\n",
    "        \n",
    "        coded_sp = coded_sp_norm * mcep_std + mcep_mean\n",
    "        coded_sp = coded_sp.T\n",
    "        coded_sp = np.ascontiguousarray(coded_sp)\n",
    "        decoded_sp = world_decode_spectral_envelop(coded_sp = coded_sp, fs = sampling_rate)\n",
    "        wav_transformed = world_speech_synthesis(f0 = f0, decoded_sp = decoded_sp, ap = ap, fs = sampling_rate, frame_period = frame_period)\n",
    "        librosa.output.write_wav(filepath, wav_transformed, sampling_rate)"
   ]
  },
  {
   "cell_type": "code",
   "execution_count": 75,
   "metadata": {},
   "outputs": [],
   "source": [
    "data_dir =  './localcache/input'\n",
    "output_dir = './localcache/output'\n",
    "\n",
    "sampling_rate = 16000\n",
    "num_mcep =32\n",
    "frame_period = 10\n",
    "n_frames = 128"
   ]
  },
  {
   "cell_type": "code",
   "execution_count": 76,
   "metadata": {},
   "outputs": [],
   "source": [
    "if not os.path.exists(output_dir):\n",
    "    os.makedirs(output_dir)\n",
    "    \n",
    "for file in os.listdir(data_dir):\n",
    "    coded_sp_norm, mcep_mean, mcep_std, f0, ap = encode(os.path.join(data_dir, file))\n",
    "    decode(os.path.join(output_dir, file), coded_sp_norm, mcep_mean, mcep_std, f0, ap)"
   ]
  },
  {
   "cell_type": "code",
   "execution_count": 71,
   "metadata": {},
   "outputs": [],
   "source": [
    "coded_sp_norm, mcep_mean, mcep_std, f0, ap = encode(os.path.join(data_dir, \"100001.wav\"))"
   ]
  },
  {
   "cell_type": "code",
   "execution_count": 73,
   "metadata": {},
   "outputs": [
    {
     "data": {
      "text/plain": [
       "(32, 35203)"
      ]
     },
     "execution_count": 73,
     "metadata": {},
     "output_type": "execute_result"
    }
   ],
   "source": [
    "coded_sp_norm.shape\n",
    "#mcep_mean.shape\n",
    "#mcep_std\n",
    "\n",
    "#f0.shape\n",
    "#ap.shape"
   ]
  },
  {
   "cell_type": "code",
   "execution_count": 74,
   "metadata": {},
   "outputs": [
    {
     "data": {
      "text/plain": [
       "<matplotlib.image.AxesImage at 0x200339c9f28>"
      ]
     },
     "execution_count": 74,
     "metadata": {},
     "output_type": "execute_result"
    },
    {
     "data": {
      "image/png": "[encoded data removed]",
      "text/plain": [
       "<Figure size 432x288 with 1 Axes>"
      ]
     },
     "metadata": {},
     "output_type": "display_data"
    }
   ],
   "source": [
    "plt.imshow(ap)\n",
    "#plt.plot(f0)"
   ]
  },
  {
   "cell_type": "code",
   "execution_count": null,
   "metadata": {},
   "outputs": [],
   "source": []
  }
 ],
 "metadata": {
  "kernelspec": {
   "display_name": "Python 3",
   "language": "python",
   "name": "python3"
  },
  "language_info": {
   "codemirror_mode": {
    "name": "ipython",
    "version": 3
   },
   "file_extension": ".py",
   "mimetype": "text/x-python",
   "name": "python",
   "nbconvert_exporter": "python",
   "pygments_lexer": "ipython3",
   "version": "3.6.5"
  }
 },
 "nbformat": 4,
 "nbformat_minor": 2
}
