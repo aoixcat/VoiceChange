{
 "cells": [
  {
   "cell_type": "code",
   "execution_count": 3,
   "metadata": {},
   "outputs": [
    {
     "name": "stdout",
     "output_type": "stream",
     "text": [
      "Log Pitch A\n",
      "Mean: 4.784900, Std: 0.339907\n",
      "Log Pitch B\n",
      "Mean: 5.393673, Std: 0.242666\n",
      "Input data fixed.\n"
     ]
    }
   ],
   "source": [
    "import os\n",
    "import numpy as np\n",
    "import time\n",
    "import librosa\n",
    "import pyworld\n",
    "import matplotlib.pyplot as plt\n",
    "from voice_utils import * \n",
    "from model import CycleGAN\n",
    "\n",
    "train_A_dir = 'C:\\\\Users\\\\alire\\\\Downloads\\\\vcc2016_training\\\\TM1'\n",
    "train_B_dir = 'C:\\\\Users\\\\alire\\\\Downloads\\\\vcc2016_training\\\\SF1'\n",
    "\n",
    "sampling_rate = 16000\n",
    "num_mcep = 24\n",
    "frame_period = 5.0\n",
    "n_frames = 128\n",
    "lambda_cycle = 10\n",
    "lambda_identity = 5\n",
    "\n",
    "wavs_A = load_wavs(wav_dir = train_A_dir, sr = sampling_rate)\n",
    "wavs_B = load_wavs(wav_dir = train_B_dir, sr = sampling_rate)\n",
    "\n",
    "\n",
    "f0s_A, timeaxes_A, sps_A, aps_A, coded_sps_A = world_encode_data(wavs = wavs_A, fs = sampling_rate, frame_period = frame_period, coded_dim = num_mcep)\n",
    "f0s_B, timeaxes_B, sps_B, aps_B, coded_sps_B = world_encode_data(wavs = wavs_B, fs = sampling_rate, frame_period = frame_period, coded_dim = num_mcep)\n",
    "\n",
    "log_f0s_mean_A, log_f0s_std_A = logf0_statistics(f0s_A)\n",
    "log_f0s_mean_B, log_f0s_std_B = logf0_statistics(f0s_B)\n",
    "\n",
    "print('Log Pitch A')\n",
    "print('Mean: %f, Std: %f' %(log_f0s_mean_A, log_f0s_std_A))\n",
    "print('Log Pitch B')\n",
    "print('Mean: %f, Std: %f' %(log_f0s_mean_B, log_f0s_std_B))\n",
    "\n",
    "coded_sps_A_transposed = transpose_in_list(lst = coded_sps_A)\n",
    "coded_sps_B_transposed = transpose_in_list(lst = coded_sps_B)\n",
    "\n",
    "coded_sps_A_norm, coded_sps_A_mean, coded_sps_A_std = coded_sps_normalization_fit_transoform(coded_sps = coded_sps_A_transposed)\n",
    "print(\"Input data fixed.\")exit\n",
    "\n",
    "coded_sps_B_norm, coded_sps_B_mean, coded_sps_B_std = coded_sps_normalization_fit_transoform(coded_sps = coded_sps_B_transposed)\n"
   ]
  },
  {
   "cell_type": "code",
   "execution_count": 15,
   "metadata": {},
   "outputs": [
    {
     "ename": "FileNotFoundError",
     "evalue": "[Errno 2] No such file or directory: './localcache/exp-data/dataset-A.npy'",
     "output_type": "error",
     "traceback": [
      "\u001b[1;31m---------------------------------------------------------------------------\u001b[0m",
      "\u001b[1;31mFileNotFoundError\u001b[0m                         Traceback (most recent call last)",
      "\u001b[1;32m<ipython-input-15-f715d21e57f3>\u001b[0m in \u001b[0;36m<module>\u001b[1;34m()\u001b[0m\n\u001b[1;32m----> 1\u001b[1;33m \u001b[0mnp\u001b[0m\u001b[1;33m.\u001b[0m\u001b[0msave\u001b[0m\u001b[1;33m(\u001b[0m\u001b[1;34m'./localcache/exp-data/dataset-A.npy'\u001b[0m\u001b[1;33m,\u001b[0m\u001b[1;33m{\u001b[0m\u001b[1;34m'coded_sps_A_norm'\u001b[0m \u001b[1;33m:\u001b[0m \u001b[0mcoded_sps_A_norm\u001b[0m\u001b[1;33m}\u001b[0m\u001b[1;33m)\u001b[0m\u001b[1;33m\u001b[0m\u001b[0m\n\u001b[0m",
      "\u001b[1;32m~\\AppData\\Local\\Continuum\\anaconda3\\lib\\site-packages\\numpy\\lib\\npyio.py\u001b[0m in \u001b[0;36msave\u001b[1;34m(file, arr, allow_pickle, fix_imports)\u001b[0m\n\u001b[0;32m    490\u001b[0m         \u001b[1;32mif\u001b[0m \u001b[1;32mnot\u001b[0m \u001b[0mfile\u001b[0m\u001b[1;33m.\u001b[0m\u001b[0mendswith\u001b[0m\u001b[1;33m(\u001b[0m\u001b[1;34m'.npy'\u001b[0m\u001b[1;33m)\u001b[0m\u001b[1;33m:\u001b[0m\u001b[1;33m\u001b[0m\u001b[0m\n\u001b[0;32m    491\u001b[0m             \u001b[0mfile\u001b[0m \u001b[1;33m=\u001b[0m \u001b[0mfile\u001b[0m \u001b[1;33m+\u001b[0m \u001b[1;34m'.npy'\u001b[0m\u001b[1;33m\u001b[0m\u001b[0m\n\u001b[1;32m--> 492\u001b[1;33m         \u001b[0mfid\u001b[0m \u001b[1;33m=\u001b[0m \u001b[0mopen\u001b[0m\u001b[1;33m(\u001b[0m\u001b[0mfile\u001b[0m\u001b[1;33m,\u001b[0m \u001b[1;34m\"wb\"\u001b[0m\u001b[1;33m)\u001b[0m\u001b[1;33m\u001b[0m\u001b[0m\n\u001b[0m\u001b[0;32m    493\u001b[0m         \u001b[0mown_fid\u001b[0m \u001b[1;33m=\u001b[0m \u001b[1;32mTrue\u001b[0m\u001b[1;33m\u001b[0m\u001b[0m\n\u001b[0;32m    494\u001b[0m     \u001b[1;32melif\u001b[0m \u001b[0mis_pathlib_path\u001b[0m\u001b[1;33m(\u001b[0m\u001b[0mfile\u001b[0m\u001b[1;33m)\u001b[0m\u001b[1;33m:\u001b[0m\u001b[1;33m\u001b[0m\u001b[0m\n",
      "\u001b[1;31mFileNotFoundError\u001b[0m: [Errno 2] No such file or directory: './localcache/exp-data/dataset-A.npy'"
     ]
    }
   ],
   "source": [
    "np.save('./localcache/exp-data/dataset-A.npy',{'coded_sps_A_norm' : coded_sps_A_norm})"
   ]
  },
  {
   "cell_type": "code",
   "execution_count": null,
   "metadata": {},
   "outputs": [],
   "source": []
  }
 ],
 "metadata": {
  "kernelspec": {
   "display_name": "Python 3",
   "language": "python",
   "name": "python3"
  },
  "language_info": {
   "codemirror_mode": {
    "name": "ipython",
    "version": 3
   },
   "file_extension": ".py",
   "mimetype": "text/x-python",
   "name": "python",
   "nbconvert_exporter": "python",
   "pygments_lexer": "ipython3",
   "version": "3.6.5"
  }
 },
 "nbformat": 4,
 "nbformat_minor": 2
}
