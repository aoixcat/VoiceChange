{
 "cells": [
  {
   "cell_type": "markdown",
   "metadata": {},
   "source": [
    "## import"
   ]
  },
  {
   "cell_type": "code",
   "execution_count": 1,
   "metadata": {},
   "outputs": [],
   "source": [
    "import wave\n",
    "import numpy as np\n",
    "import matplotlib.pyplot as plt\n",
    "import scipy.fftpack\n",
    "import cv2\n",
    "%matplotlib inline"
   ]
  },
  {
   "cell_type": "markdown",
   "metadata": {},
   "source": [
    "## Data Manager Class"
   ]
  },
  {
   "cell_type": "code",
   "execution_count": 2,
   "metadata": {},
   "outputs": [],
   "source": [
    "class DataManager():\n",
    "    \n",
    "    def __init__(self):\n",
    "        self.N = 256\n",
    "        self.dif = 128\n",
    "        self.window = np.hamming(self.N)\n",
    "        self.im_width = 128\n",
    "        \n",
    "    def voice2images(self, data, folder_name = \"images\"):\n",
    "        i = 0\n",
    "        _wav = self.N + self.dif * (self.im_width - 1)\n",
    "        _dif = int(_wav/2)\n",
    "        while(True):\n",
    "            _data = data[i*_dif:i*_dif + _wav]\n",
    "            if (len(_data) < _wav):\n",
    "                break\n",
    "            self.save_image(self.spec2image(_data), folder_name + \"/\" + str(i) + \".png\")\n",
    "            i = i + 1\n",
    "    \n",
    "    def images2voice(self, image_num = 10000, folder_name = \"images\"):\n",
    "        _wav = self.N + self.dif * (self.im_width - 1)\n",
    "        _dif = int(_wav/2)\n",
    "        voice = np.zeros(_dif * (image_num+1))\n",
    "        for i in range(image_num):\n",
    "            data = self.read_image(folder_name + \"/\" + str(i) + \".png\")\n",
    "            if data is None:\n",
    "                break\n",
    "            voice[i*_dif:i*_dif+_wav] = voice[i*_dif:i*_dif+_wav] + self.image2spec(data)*np.r_[np.linspace(0,1,_dif), np.linspace(1,0,_dif)]\n",
    "        \n",
    "        \"\"\"\n",
    "        voice = []\n",
    "        for i in range(image_num):\n",
    "            data = self.read_image(folder_name + \"/\" + str(i) + \".png\")\n",
    "            voice.append(self.image2spec(data))\n",
    "        \"\"\"\n",
    "        return voice\n",
    "        \n",
    "    def spec2image(self, data):\n",
    "        image = []\n",
    "        for i in range(self.im_width):\n",
    "            image.append(self.dct(data[self.dif*i:self.dif*i + self.N]))\n",
    "        return image\n",
    "    \n",
    "    def image2spec(self, data):\n",
    "        voice = np.zeros(self.N + self.dif*(self.im_width-1))        \n",
    "        vsum = np.zeros(self.N + self.dif*(self.im_width-1))\n",
    "        for i in range(self.im_width):\n",
    "            voice[self.dif*i:self.dif*i + self.N] = voice[self.dif*i:self.dif*i + self.N] + self.idct(data[i]) * self.window\n",
    "            vsum[self.dif*i:self.dif*i + self.N] +=self.window ** 2 \n",
    "        pos = (vsum != 0)\n",
    "        voice[pos] /= vsum[pos]\n",
    "        return voice\n",
    "        \n",
    "    def dct(self, data):       \n",
    "        data = data * self.window\n",
    "        data = scipy.fftpack.dct(data)\n",
    "        pm = np.sign(data)\n",
    "        #data = np.log(np.abs(data)+0.0001)\n",
    "        #data = pm * data\n",
    "        data = data[:int(self.N/2)]\n",
    "        data = data / 20\n",
    "        return data\n",
    "    \n",
    "    def idct(self, data):\n",
    "        data = data * 20\n",
    "        pm = np.sign(data)\n",
    "        #data = np.exp(np.abs(data))\n",
    "        #data = pm * data\n",
    "        data = np.append(data, np.zeros(int(self.N/2)))\n",
    "        data = scipy.fftpack.idct(data) / (2 * len(data))\n",
    "        return data\n",
    "\n",
    "    def read_wave(self, filename):\n",
    "        wf = wave.open(filename , \"r\" )\n",
    "        buf = wf.readframes(wf.getnframes())\n",
    "        data = np.frombuffer(buf, dtype=\"int16\") # 16 kHz?\n",
    "        return data    \n",
    "    \n",
    "    def save_wave(self, data, filename):\n",
    "        wf = wave.open(filename, \"w\")\n",
    "        wf.setnchannels(2)\n",
    "        wf.setsampwidth(2) #2 byte = 16 bit\n",
    "        wf.setframerate(16000)\n",
    "        wf.writeframes(np.array(data,  dtype=\"int16\"))\n",
    "        wf.close()\n",
    "        \n",
    "    def save_image(self, data, file_name):\n",
    "        data = np.array(data) * 255\n",
    "        cv2.imwrite(file_name, data)\n",
    "        \n",
    "    def read_image(self, file_name):\n",
    "        data = cv2.imread(file_name, cv2.IMREAD_GRAYSCALE)\n",
    "        return data / 255"
   ]
  },
  {
   "cell_type": "markdown",
   "metadata": {},
   "source": [
    "## Data init"
   ]
  },
  {
   "cell_type": "code",
   "execution_count": 3,
   "metadata": {},
   "outputs": [],
   "source": [
    "dm = DataManager()"
   ]
  },
  {
   "cell_type": "code",
   "execution_count": 4,
   "metadata": {},
   "outputs": [],
   "source": [
    "voice1 = dm.read_wave(\"VoiceData/kamiya.wav\")\n",
    "dm.voice2images(voice1, \"ImageData/Kamiya_images\")\n",
    "\n",
    "voice2 = dm.read_wave(\"VoiceData/kizuna.wav\")\n",
    "dm.voice2images(voice2, \"ImageData/Kizuna_images\")"
   ]
  },
  {
   "cell_type": "code",
   "execution_count": 7,
   "metadata": {},
   "outputs": [
    {
     "data": {
      "text/plain": [
       "<matplotlib.image.AxesImage at 0x106ef2b00>"
      ]
     },
     "execution_count": 7,
     "metadata": {},
     "output_type": "execute_result"
    },
    {
     "data": {
      "image/png": "[encoded data removed]",
      "text/plain": [
       "<Figure size 432x288 with 1 Axes>"
      ]
     },
     "metadata": {},
     "output_type": "display_data"
    }
   ],
   "source": [
    "image = dm.spec2image(voice1)\n",
    "plt.imshow(image)"
   ]
  },
  {
   "cell_type": "code",
   "execution_count": 8,
   "metadata": {},
   "outputs": [],
   "source": [
    "re_voice = dm.image2spec(image)\n",
    "voice = dm.images2voice(2000, \"ImageData/Kamiya_images\")\n",
    "dm.save_wave(voice, \"test.wav\")"
   ]
  }
 ],
 "metadata": {
  "kernelspec": {
   "display_name": "Python 3",
   "language": "python",
   "name": "python3"
  },
  "language_info": {
   "codemirror_mode": {
    "name": "ipython",
    "version": 3
   },
   "file_extension": ".py",
   "mimetype": "text/x-python",
   "name": "python",
   "nbconvert_exporter": "python",
   "pygments_lexer": "ipython3",
   "version": "3.6.4"
  }
 },
 "nbformat": 4,
 "nbformat_minor": 2
}
