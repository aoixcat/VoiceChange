{
 "cells": [
  {
   "cell_type": "code",
   "execution_count": null,
   "metadata": {},
   "outputs": [],
   "source": [
    "import os\n",
    "import sys\n",
    "import numpy as np\n",
    "\n",
    "from model import CycleGAN\n",
    "from preprocess import *"
   ]
  },
  {
   "cell_type": "code",
   "execution_count": null,
   "metadata": {},
   "outputs": [],
   "source": [
    "num_features = 24\n",
    "sampling_rate = 16000\n",
    "frame_period = 5.0\n",
    "\n",
    "model_dir = './model/sf1_tf2'\n",
    "model_name = 'sf1_tf2.ckpt'\n",
    "data_dir = './data/evaluation_all/SF1'\n",
    "# data_dir = './data/voice_data/M2'\n",
    "conversion_direction = 'A2B'\n",
    "output_dir = './converted_voices'"
   ]
  },
  {
   "cell_type": "code",
   "execution_count": null,
   "metadata": {},
   "outputs": [],
   "source": [
    "model = CycleGAN(num_features = num_features, mode = 'test')\n",
    "model.load(filepath = os.path.join(model_dir, model_name))"
   ]
  },
  {
   "cell_type": "code",
   "execution_count": null,
   "metadata": {},
   "outputs": [],
   "source": [
    "mcep_normalization_params = np.load(os.path.join(model_dir, 'mcep_normalization.npz'))\n",
    "mcep_mean_A = mcep_normalization_params['mean_A']\n",
    "mcep_std_A = mcep_normalization_params['std_A']\n",
    "mcep_mean_B = mcep_normalization_params['mean_B']\n",
    "mcep_std_B = mcep_normalization_params['std_B']\n",
    "\n",
    "logf0s_normalization_params = np.load(os.path.join(model_dir, 'logf0s_normalization.npz'))\n",
    "logf0s_mean_A = logf0s_normalization_params['mean_A']\n",
    "logf0s_std_A = logf0s_normalization_params['std_A']\n",
    "logf0s_mean_B = logf0s_normalization_params['mean_B']\n",
    "logf0s_std_B = logf0s_normalization_params['std_B']"
   ]
  },
  {
   "cell_type": "code",
   "execution_count": null,
   "metadata": {},
   "outputs": [],
   "source": [
    "def conversion():\n",
    "\n",
    "    if not os.path.exists(output_dir):\n",
    "        os.makedirs(output_dir)\n",
    "\n",
    "    for file in os.listdir(data_dir):\n",
    "\n",
    "        filepath = os.path.join(data_dir, file)\n",
    "        wav, _ = librosa.load(filepath, sr = sampling_rate, mono = True)\n",
    "        wav = wav_padding(wav = wav, sr = sampling_rate, frame_period = frame_period, multiple = 4)\n",
    "        f0, timeaxis, sp, ap = world_decompose(wav = wav, fs = sampling_rate, frame_period = frame_period)\n",
    "        coded_sp = world_encode_spectral_envelop(sp = sp, fs = sampling_rate, dim = num_features)\n",
    "        coded_sp_transposed = coded_sp.T\n",
    "\n",
    "        if conversion_direction == 'A2B':\n",
    "            f0_converted = pitch_conversion(f0 = f0, mean_log_src = logf0s_mean_A, std_log_src = logf0s_std_A, mean_log_target = logf0s_mean_B, std_log_target = logf0s_std_B)\n",
    "            #f0_converted = f0\n",
    "            coded_sp_norm = (coded_sp_transposed - mcep_mean_A) / mcep_std_A\n",
    "            coded_sp_converted_norm = model.test(inputs = np.array([coded_sp_norm]), direction = conversion_direction)[0]\n",
    "            coded_sp_converted = coded_sp_converted_norm * mcep_std_B + mcep_mean_B\n",
    "        else:\n",
    "            f0_converted = pitch_conversion(f0 = f0, mean_log_src = logf0s_mean_B, std_log_src = logf0s_std_B, mean_log_target = logf0s_mean_A, std_log_target = logf0s_std_A)\n",
    "            #f0_converted = f0\n",
    "            coded_sp_norm = (coded_sp_transposed - mcep_mean_B) / mcep_std_B\n",
    "            coded_sp_converted_norm = model.test(inputs = np.array([coded_sp_norm]), direction = conversion_direction)[0]\n",
    "            coded_sp_converted = coded_sp_converted_norm * mcep_std_A + mcep_mean_A\n",
    "\n",
    "        coded_sp_converted = coded_sp_converted.T\n",
    "        coded_sp_converted = np.ascontiguousarray(coded_sp_converted)\n",
    "        decoded_sp_converted = world_decode_spectral_envelop(coded_sp = coded_sp_converted, fs = sampling_rate)\n",
    "        wav_transformed = world_speech_synthesis(f0 = f0_converted, decoded_sp = decoded_sp_converted, ap = ap, fs = sampling_rate, frame_period = frame_period)\n",
    "        librosa.output.write_wav(os.path.join(output_dir, os.path.basename(file)), wav_transformed, sampling_rate)"
   ]
  },
  {
   "cell_type": "code",
   "execution_count": null,
   "metadata": {},
   "outputs": [],
   "source": [
    "import time\n",
    "start = time.time()\n",
    "\n",
    "conversion()\n",
    "\n",
    "elapsed_time = time.time() - start\n",
    "print (\"convert 4 sec voice data :{0:.4f}\".format(elapsed_time) + \"[sec]\")"
   ]
  },
  {
   "cell_type": "code",
   "execution_count": null,
   "metadata": {},
   "outputs": [],
   "source": []
  }
 ],
 "metadata": {
  "kernelspec": {
   "display_name": "Python 3",
   "language": "python",
   "name": "python3"
  },
  "language_info": {
   "codemirror_mode": {
    "name": "ipython",
    "version": 3
   },
   "file_extension": ".py",
   "mimetype": "text/x-python",
   "name": "python",
   "nbconvert_exporter": "python",
   "pygments_lexer": "ipython3",
   "version": "3.5.2"
  }
 },
 "nbformat": 4,
 "nbformat_minor": 2
}
